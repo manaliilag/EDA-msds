{
 "cells": [
  {
   "cell_type": "code",
   "execution_count": 1,
   "metadata": {},
   "outputs": [],
   "source": [
    "import numpy as np\n",
    "import pandas as pd \n",
    "import matplotlib.pyplot as plt\n",
    "import seaborn as sns\n",
    "from scipy.stats import pearsonr, spearmanr"
   ]
  },
  {
   "cell_type": "code",
   "execution_count": 3,
   "metadata": {},
   "outputs": [],
   "source": [
    "np.random.seed(42)\n",
    "n = 100\n",
    "time_spent_studying = np.random.uniform(1, 10, n)\n",
    "exam_scores = np.log(time_spent_studying) * 15 + np.random.normal(0, 1, n) "
   ]
  },
  {
   "cell_type": "code",
   "execution_count": 5,
   "metadata": {},
   "outputs": [
    {
     "data": {
      "text/plain": [
       "array([1.47496003, 2.2572141 , 2.02656087, 1.8544097 , 0.8772038 ,\n",
       "       0.8771135 , 0.42051956, 2.17424993, 1.85786475, 1.99777764,\n",
       "       0.16996254, 2.27513051, 2.13912263, 1.06851453, 0.96942372,\n",
       "       0.97480134, 1.31859891, 1.74445957, 1.58668198, 1.28676743,\n",
       "       1.87282873, 0.81334718, 1.2890403 , 1.45797682, 1.63014794,\n",
       "       2.08773005, 1.02857031, 1.72777367, 1.84557368, 0.34928531,\n",
       "       1.86685205, 0.93008204, 0.46087732, 2.25549032, 2.27116546,\n",
       "       2.11330854, 1.31949299, 0.63076581, 1.9682442 , 1.6016824 ,\n",
       "       0.74114852, 1.69682445, 0.26964286, 2.21745017, 1.20267792,\n",
       "       1.94056741, 1.33642103, 1.73705901, 1.77840275, 0.97971242,\n",
       "       2.27482961, 2.07646153, 2.24659558, 2.20314548, 1.85334047,\n",
       "       2.22967758, 0.58580276, 1.0166231 , 0.34149219, 1.36812351,\n",
       "       1.50365411, 1.23609374, 2.13518812, 1.43764789, 1.26084751,\n",
       "       1.7722818 , 0.8190386 , 2.10654257, 0.51339579, 2.29071314,\n",
       "       2.07319745, 1.02548271, 0.04850351, 2.12096164, 1.99629307,\n",
       "       2.02301199, 2.07209375, 0.51066673, 1.44130125, 0.71433196,\n",
       "       2.17110084, 1.88853572, 1.38079985, 0.45236469, 1.33469599,\n",
       "       1.36778662, 2.02372474, 1.9077657 , 2.19554702, 1.65821557,\n",
       "       0.73061068, 2.00407165, 2.06013963, 1.80030531, 2.07175012,\n",
       "       1.69454354, 1.74127207, 1.57853926, 0.20601541, 0.67855262])"
      ]
     },
     "execution_count": 5,
     "metadata": {},
     "output_type": "execute_result"
    }
   ],
   "source": [
    "np.log(time_spent_studying)"
   ]
  },
  {
   "cell_type": "code",
   "execution_count": null,
   "metadata": {},
   "outputs": [],
   "source": []
  },
  {
   "cell_type": "code",
   "execution_count": null,
   "metadata": {},
   "outputs": [],
   "source": []
  },
  {
   "cell_type": "code",
   "execution_count": 4,
   "metadata": {},
   "outputs": [
    {
     "data": {
      "text/plain": [
       "(array([4.37086107, 9.55642876, 7.58794548, 6.38792636, 2.40416776,\n",
       "        2.40395068, 1.52275251, 8.79558531, 6.41003511, 7.3726532 ,\n",
       "        1.18526045, 9.72918867, 8.49198377, 2.911052  , 2.6364247 ,\n",
       "        2.65064059, 3.73818019, 5.72280788, 4.88750517, 3.62106226,\n",
       "        6.50667605, 2.25544475, 3.62930184, 4.29725659, 5.10462986,\n",
       "        8.06658365, 2.79706404, 5.62810995, 6.33173112, 1.41805371,\n",
       "        6.46790367, 2.53471711, 1.58546434, 9.53996984, 9.6906883 ,\n",
       "        8.27557613, 3.74152392, 1.87904903, 7.15809724, 4.96137244,\n",
       "        2.09834411, 5.45659219, 1.30949669, 9.18388362, 3.32901983,\n",
       "        6.96270056, 3.80539968, 5.68061219, 5.92039251, 2.6636901 ,\n",
       "        9.72626165, 7.97619541, 9.45549047, 9.05344615, 6.38109981,\n",
       "        9.29686812, 1.79643252, 2.76384576, 1.4070456 , 3.92797298,\n",
       "        4.49809561, 3.44214129, 8.45863758, 4.21077994, 3.52841059,\n",
       "        5.88426475, 2.26831802, 8.21977283, 1.67095579, 9.88198243,\n",
       "        7.95020292, 2.78844113, 1.04969905, 8.33915286, 7.36171609,\n",
       "        7.56106451, 7.94143312, 1.66640187, 4.22619156, 2.04282154,\n",
       "        8.76793083, 6.60968314, 3.97808222, 1.57202515, 3.7988409 ,\n",
       "        3.9266499 , 7.56645561, 6.73801724, 8.98491468, 5.24993433,\n",
       "        2.07634821, 7.41920309, 7.84706544, 6.05149478, 7.93870462,\n",
       "        5.44416037, 5.70459546, 4.84786917, 1.22877214, 1.97102284]),\n",
       " array([22.21144753, 33.55920409, 30.49017377, 25.82857662, 12.93838511,\n",
       "        13.5138151 ,  7.78568743, 32.09547868, 27.05947761, 29.46490758,\n",
       "         3.46484019, 34.45570873, 31.55707928, 16.54098533, 14.63843336,\n",
       "        15.59066513, 19.07693058, 25.83923146, 23.40812159, 17.83799643,\n",
       "        28.3885513 , 12.46126297, 19.34071793, 21.63506512, 23.03684841,\n",
       "        30.89530548, 15.08584013, 25.11432785, 27.52231945,  5.64333047,\n",
       "        29.88896662, 14.12580839,  7.17071021, 33.75790894, 32.14871061,\n",
       "        31.67311426, 19.85262513, 11.92472929, 29.33130199, 24.32678341,\n",
       "        11.08251598, 24.28368877,  5.18746567, 34.01368554, 18.8312007 ,\n",
       "        28.1991237 , 21.44910973, 24.65403404, 27.26289834, 16.88614188,\n",
       "        33.13190788, 30.58062525, 33.798585  , 32.54370648, 26.24944356,\n",
       "        33.5137267 ,  7.72473775, 15.72293896,  4.20295857, 22.07178707,\n",
       "        21.77155834, 18.21934465, 32.84133899, 20.33385403, 19.1401726 ,\n",
       "        27.8913697 , 10.67809574, 31.78277244,  7.9608197 , 35.14252001,\n",
       "        29.86101109, 14.06178398,  1.24949418, 32.1114092 , 30.19488891,\n",
       "        30.69162804, 30.40138157,  7.89225465, 21.91259117, 10.00062795,\n",
       "        34.43228713, 28.80186867, 19.52069425,  7.44202402, 19.04575822,\n",
       "        21.30388389, 31.51446671, 27.79580324, 33.8965815 , 25.28601444,\n",
       "        11.78122042, 31.95786774, 30.65670637, 26.25084352, 30.18673731,\n",
       "        24.60234284, 26.04197937, 24.01924089,  3.36692197, 11.00547251]))"
      ]
     },
     "execution_count": 4,
     "metadata": {},
     "output_type": "execute_result"
    }
   ],
   "source": [
    "time_spent_studying, exam_scores"
   ]
  },
  {
   "cell_type": "code",
   "execution_count": 6,
   "metadata": {},
   "outputs": [],
   "source": [
    "# Create a DataFrame\n",
    "data = pd.DataFrame({'time_spent_studying': time_spent_studying,\n",
    "                     'exam_scores': exam_scores})\n"
   ]
  },
  {
   "cell_type": "code",
   "execution_count": 8,
   "metadata": {},
   "outputs": [
    {
     "data": {
      "text/html": [
       "<div>\n",
       "<style scoped>\n",
       "    .dataframe tbody tr th:only-of-type {\n",
       "        vertical-align: middle;\n",
       "    }\n",
       "\n",
       "    .dataframe tbody tr th {\n",
       "        vertical-align: top;\n",
       "    }\n",
       "\n",
       "    .dataframe thead th {\n",
       "        text-align: right;\n",
       "    }\n",
       "</style>\n",
       "<table border=\"1\" class=\"dataframe\">\n",
       "  <thead>\n",
       "    <tr style=\"text-align: right;\">\n",
       "      <th></th>\n",
       "      <th>time_spent_studying</th>\n",
       "      <th>exam_scores</th>\n",
       "    </tr>\n",
       "  </thead>\n",
       "  <tbody>\n",
       "    <tr>\n",
       "      <th>0</th>\n",
       "      <td>4.370861</td>\n",
       "      <td>22.211448</td>\n",
       "    </tr>\n",
       "    <tr>\n",
       "      <th>1</th>\n",
       "      <td>9.556429</td>\n",
       "      <td>33.559204</td>\n",
       "    </tr>\n",
       "    <tr>\n",
       "      <th>2</th>\n",
       "      <td>7.587945</td>\n",
       "      <td>30.490174</td>\n",
       "    </tr>\n",
       "    <tr>\n",
       "      <th>3</th>\n",
       "      <td>6.387926</td>\n",
       "      <td>25.828577</td>\n",
       "    </tr>\n",
       "    <tr>\n",
       "      <th>4</th>\n",
       "      <td>2.404168</td>\n",
       "      <td>12.938385</td>\n",
       "    </tr>\n",
       "  </tbody>\n",
       "</table>\n",
       "</div>"
      ],
      "text/plain": [
       "   time_spent_studying  exam_scores\n",
       "0             4.370861    22.211448\n",
       "1             9.556429    33.559204\n",
       "2             7.587945    30.490174\n",
       "3             6.387926    25.828577\n",
       "4             2.404168    12.938385"
      ]
     },
     "execution_count": 8,
     "metadata": {},
     "output_type": "execute_result"
    }
   ],
   "source": [
    "data.head()"
   ]
  },
  {
   "cell_type": "code",
   "execution_count": 11,
   "metadata": {},
   "outputs": [
    {
     "data": {
      "image/png": "[encoded data removed]",
      "text/plain": [
       "<Figure size 432x288 with 1 Axes>"
      ]
     },
     "metadata": {
      "needs_background": "light"
     },
     "output_type": "display_data"
    }
   ],
   "source": [
    "plt.scatter(data['time_spent_studying'], data['exam_scores'])\n",
    "plt.xlabel(\"Time Spent to studing in hrs\")\n",
    "plt.ylabel(\"exam score\")\n",
    "plt.title(\"time spent studying vs exam score\")\n",
    "plt.show()"
   ]
  },
  {
   "cell_type": "code",
   "execution_count": 12,
   "metadata": {},
   "outputs": [],
   "source": [
    "pearson_corr, pearson_pvalue = pearsonr(data['time_spent_studying'], data['exam_scores'])"
   ]
  },
  {
   "cell_type": "code",
   "execution_count": 13,
   "metadata": {},
   "outputs": [],
   "source": [
    "spearman_corr, spearman_pvalue = spearmanr(data['time_spent_studying'], data['exam_scores'])"
   ]
  },
  {
   "cell_type": "code",
   "execution_count": 14,
   "metadata": {},
   "outputs": [
    {
     "data": {
      "text/plain": [
       "(0.9653829516581819, 5.300621279498505e-59)"
      ]
     },
     "execution_count": 14,
     "metadata": {},
     "output_type": "execute_result"
    }
   ],
   "source": [
    "pearson_corr, pearson_pvalue"
   ]
  },
  {
   "cell_type": "code",
   "execution_count": 15,
   "metadata": {},
   "outputs": [
    {
     "data": {
      "text/plain": [
       "(0.9925112511251125, 2.6614014436067006e-91)"
      ]
     },
     "execution_count": 15,
     "metadata": {},
     "output_type": "execute_result"
    }
   ],
   "source": [
    "spearman_corr, spearman_pvalue"
   ]
  },
  {
   "cell_type": "code",
   "execution_count": null,
   "metadata": {},
   "outputs": [],
   "source": []
  },
  {
   "cell_type": "code",
   "execution_count": null,
   "metadata": {},
   "outputs": [],
   "source": []
  },
  {
   "cell_type": "code",
   "execution_count": null,
   "metadata": {},
   "outputs": [],
   "source": []
  },
  {
   "cell_type": "code",
   "execution_count": null,
   "metadata": {},
   "outputs": [],
   "source": []
  },
  {
   "cell_type": "code",
   "execution_count": null,
   "metadata": {},
   "outputs": [],
   "source": []
  },
  {
   "cell_type": "code",
   "execution_count": null,
   "metadata": {},
   "outputs": [],
   "source": []
  },
  {
   "cell_type": "code",
   "execution_count": null,
   "metadata": {},
   "outputs": [],
   "source": []
  }
 ],
 "metadata": {
  "kernelspec": {
   "display_name": "Python 3",
   "language": "python",
   "name": "python3"
  },
  "language_info": {
   "codemirror_mode": {
    "name": "ipython",
    "version": 3
   },
   "file_extension": ".py",
   "mimetype": "text/x-python",
   "name": "python",
   "nbconvert_exporter": "python",
   "pygments_lexer": "ipython3",
   "version": "3.8.3"
  }
 },
 "nbformat": 4,
 "nbformat_minor": 4
}
